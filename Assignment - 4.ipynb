{
 "cells": [
  {
   "cell_type": "markdown",
   "metadata": {},
   "source": [
    "2.Problem Statement\n",
    "1.1 Write a Python Program(with class concepts) to find the area of the triangle using the below\n",
    "formula.\n",
    "area = (s*(s-a)*(s-b)*(s-c)) ** 0.5\n",
    "Function to take the length of the sides of triangle from user should be defined in the parent\n",
    "class and function to calculate the area should be defined in subclass."
   ]
  },
  {
   "cell_type": "code",
   "execution_count": 84,
   "metadata": {},
   "outputs": [
    {
     "name": "stdout",
     "output_type": "stream",
     "text": [
      "First side of a Triangle: 5\n",
      "Second side of a Triangle: 6\n",
      "Third side of a Triangle: 7\n",
      "14.696938456699069\n"
     ]
    }
   ],
   "source": [
    "\n",
    "class Triangle:\n",
    "    def __init__(self, A, B, C):\n",
    "        self.A = A\n",
    "        self.B = B\n",
    "        self.C = C\n",
    "    \n",
    "    def len_triangle(self):\n",
    "        return (self.A+self.B+self.C)/2\n",
    "\n",
    "class Calculate(Triangle):\n",
    "    def __init__(self, A, B, C):\n",
    "        \n",
    "        super().__init__(A,B,C)\n",
    "        self.s = super(Calculate, self).len_triangle()\n",
    "    \n",
    "    def get_area(self):\n",
    "        \n",
    "        return(self.s*((self.s-self.A)*(self.s-self.B)*(self.s-self.C)))** 0.5\n",
    "\n",
    "\n",
    "a = float(input('First side of a Triangle: '))\n",
    "b = float(input('Second side of a Triangle: '))\n",
    "c = float(input('Third side of a Triangle: '))\n",
    "\n",
    "\n",
    "l = Calculate(a,b,c)   \n",
    "k = l.get_area()\n",
    "print(k)\n"
   ]
  },
  {
   "cell_type": "markdown",
   "metadata": {},
   "source": [
    "1.2 Write a function filter_long_words() that takes a list of words and an integer n and returns\n",
    "the list of words that are longer than n"
   ]
  },
  {
   "cell_type": "code",
   "execution_count": 86,
   "metadata": {},
   "outputs": [
    {
     "name": "stdout",
     "output_type": "stream",
     "text": [
      "5\n",
      "abcd\n",
      "abcdef\n",
      "abcde\n",
      "abcdefgh\n",
      "abcdefg\n",
      "['abcdef', 'abcdefgh', 'abcdefg']\n"
     ]
    }
   ],
   "source": [
    "n = int(input())\n",
    "lst= []\n",
    "for i in range(n):\n",
    "    lst.append(input())\n",
    "inal = list(filter(lambda x:len(x)>n,lst))\n",
    "print(inal)"
   ]
  },
  {
   "cell_type": "markdown",
   "metadata": {},
   "source": [
    "2.1 Write a Python program using function concept that maps list of words into a list of integers\n",
    "representing the lengths of the corresponding words.\n",
    "Hint: If a list [ ab,cde,erty] is passed on to the python function output should come as [2,3,4]\n",
    "Here 2,3 and 4 are the lengths of the words in the list."
   ]
  },
  {
   "cell_type": "code",
   "execution_count": 79,
   "metadata": {},
   "outputs": [
    {
     "name": "stdout",
     "output_type": "stream",
     "text": [
      "[2, 3, 4]\n"
     ]
    }
   ],
   "source": [
    "#using function \n",
    "def finding_words_length(l):\n",
    "    k = []\n",
    "    for i in l:\n",
    "        k.append(len(i))\n",
    "    return k\n",
    "\n",
    "\n",
    "listt = ['ab','cde','erty']\n",
    "print(finding_words_length(listt))\n",
    "\n",
    "\n"
   ]
  },
  {
   "cell_type": "code",
   "execution_count": 80,
   "metadata": {},
   "outputs": [
    {
     "name": "stdout",
     "output_type": "stream",
     "text": [
      "[2, 3, 4]\n"
     ]
    }
   ],
   "source": [
    "#using list \n",
    "listt = ['ab','cde','erty']\n",
    "ln = [len(i) for i in listt]\n",
    "print(ln)"
   ]
  },
  {
   "cell_type": "markdown",
   "metadata": {},
   "source": [
    "2.2 Write a Python function which takes a character (i.e. a string of length 1) and returns True if\n",
    "it is a vowel, False otherwise."
   ]
  },
  {
   "cell_type": "code",
   "execution_count": 81,
   "metadata": {},
   "outputs": [
    {
     "name": "stdout",
     "output_type": "stream",
     "text": [
      "u\n",
      "True\n"
     ]
    }
   ],
   "source": [
    "def vowel_checker(a):\n",
    "    if a in ['a','e','i','o','u']:\n",
    "        return True\n",
    "    else:\n",
    "        return False\n",
    "    \n",
    "print(vowel_checker(a=input()))"
   ]
  },
  {
   "cell_type": "code",
   "execution_count": null,
   "metadata": {},
   "outputs": [],
   "source": []
  },
  {
   "cell_type": "code",
   "execution_count": null,
   "metadata": {},
   "outputs": [],
   "source": []
  },
  {
   "cell_type": "code",
   "execution_count": null,
   "metadata": {},
   "outputs": [],
   "source": []
  }
 ],
 "metadata": {
  "kernelspec": {
   "display_name": "Python 3",
   "language": "python",
   "name": "python3"
  },
  "language_info": {
   "codemirror_mode": {
    "name": "ipython",
    "version": 3
   },
   "file_extension": ".py",
   "mimetype": "text/x-python",
   "name": "python",
   "nbconvert_exporter": "python",
   "pygments_lexer": "ipython3",
   "version": "3.7.3"
  }
 },
 "nbformat": 4,
 "nbformat_minor": 2
}
