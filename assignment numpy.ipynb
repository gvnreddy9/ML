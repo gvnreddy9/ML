{
 "cells": [
  {
   "cell_type": "markdown",
   "metadata": {},
   "source": [
    "Write a function so that the columns of the output matrix are powers of the input\n",
    "vector.\n",
    "The order of the powers is determined by the increasing boolean argument. Specifically, when\n",
    "increasing is False, the i-th output column is the input vector raised element-wise to the power\n",
    "of N - i - 1.\n",
    "\n",
    "HINT: Such a matrix with a geometric progression in each row is named for Alexandre-\n",
    "Theophile Vandermonde.\n",
    "\n",
    "\n"
   ]
  },
  {
   "cell_type": "markdown",
   "metadata": {},
   "source": [
    "Problem Statement 2: <br>\n",
    "Given a sequence of n values x1, x2, ..., xn and a window size k>0, the k-th moving average of <br>\n",
    "the given sequence is defined as follows: <br>\n",
    "The moving average sequence has n-k+1 elements as shown below. <br>\n",
    "The moving averages with k=4 of a ten-value sequence (n=10) is shown below <br>\n",
    "i 1 2 3 4 5 6 7 8 9 10 <br>\n",
    "===== == == == == == == == == == == <br>\n",
    "Input 10 20 30 40 50 60 70 80 90 100 <br>\n",
    "y1 25 = (10+20+30+40)/4 <br>\n",
    "y2 35 = (20+30+40+50)/4 <br>\n",
    "y3 45 = (30+40+50+60)/4 <br>\n",
    "y4 55 = (40+50+60+70)/4 <br>\n",
    "y5 65 = (50+60+70+80)/4 <br>\n",
    "y6 75 = (60+70+80+90)/4 <br>\n",
    "y7 85 = (70+80+90+100)/4 <br>\n",
    "Thus, the moving average sequence has n-k+1=10-4+1=7 values.\n"
   ]
  },
  {
   "cell_type": "markdown",
   "metadata": {},
   "source": [
    "Question: Write a function to find moving average in an array over a window:\n",
    "Test it over [3, 5, 7, 2, 8, 10, 11, 65, 72, 81, 99, 100, 150] and window of 3."
   ]
  },
  {
   "cell_type": "code",
   "execution_count": 13,
   "metadata": {},
   "outputs": [],
   "source": [
    "def moving_average(a,d):  \n",
    "    j=1\n",
    "    for i in range(len(a)-2):\n",
    "        d[j]=(a[i]+a[i+1]+a[i+2])/3\n",
    "        j+=1\n",
    "    return d"
   ]
  },
  {
   "cell_type": "code",
   "execution_count": 17,
   "metadata": {},
   "outputs": [
    {
     "name": "stdout",
     "output_type": "stream",
     "text": [
      "y1 = 5.00 \n",
      "y2 = 4.67 \n",
      "y3 = 5.67 \n",
      "y4 = 6.67 \n",
      "y5 = 9.67 \n",
      "y6 = 28.67 \n",
      "y7 = 49.33 \n",
      "y8 = 72.67 \n",
      "y9 = 84.00 \n",
      "y10 = 93.33 \n",
      "y11 = 116.33 \n"
     ]
    }
   ],
   "source": [
    "a = [3, 5, 7, 2, 8, 10, 11, 65, 72, 81, 99, 100, 150]\n",
    "d= dict()\n",
    "moving_average(a,d)\n",
    "for k in d:\n",
    "    print(\"y{0} = {1:.2f} \".format(k,d[k]))"
   ]
  },
  {
   "cell_type": "code",
   "execution_count": null,
   "metadata": {},
   "outputs": [],
   "source": [
    "\n"
   ]
  },
  {
   "cell_type": "code",
   "execution_count": 3,
   "metadata": {},
   "outputs": [],
   "source": []
  },
  {
   "cell_type": "code",
   "execution_count": 4,
   "metadata": {},
   "outputs": [],
   "source": []
  },
  {
   "cell_type": "code",
   "execution_count": null,
   "metadata": {},
   "outputs": [],
   "source": []
  },
  {
   "cell_type": "code",
   "execution_count": null,
   "metadata": {},
   "outputs": [],
   "source": []
  }
 ],
 "metadata": {
  "kernelspec": {
   "display_name": "Python 3",
   "language": "python",
   "name": "python3"
  },
  "language_info": {
   "codemirror_mode": {
    "name": "ipython",
    "version": 3
   },
   "file_extension": ".py",
   "mimetype": "text/x-python",
   "name": "python",
   "nbconvert_exporter": "python",
   "pygments_lexer": "ipython3",
   "version": "3.7.3"
  }
 },
 "nbformat": 4,
 "nbformat_minor": 2
}
